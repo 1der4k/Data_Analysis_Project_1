{
 "cells": [
  {
   "cell_type": "code",
   "execution_count": 12,
   "metadata": {},
   "outputs": [
    {
     "data": {
      "text/html": [
       "<div>\n",
       "<style scoped>\n",
       "    .dataframe tbody tr th:only-of-type {\n",
       "        vertical-align: middle;\n",
       "    }\n",
       "\n",
       "    .dataframe tbody tr th {\n",
       "        vertical-align: top;\n",
       "    }\n",
       "\n",
       "    .dataframe thead th {\n",
       "        text-align: right;\n",
       "    }\n",
       "</style>\n",
       "<table border=\"1\" class=\"dataframe\">\n",
       "  <thead>\n",
       "    <tr style=\"text-align: right;\">\n",
       "      <th></th>\n",
       "      <th>Observation Time</th>\n",
       "      <th>Maximum Category</th>\n",
       "      <th>Path Length (miles)</th>\n",
       "      <th>Path Width (yards)</th>\n",
       "      <th>Injuries</th>\n",
       "      <th>Fatalities</th>\n",
       "      <th>Monetary Loss</th>\n",
       "      <th>Origin Latitude</th>\n",
       "      <th>Origin Longitude</th>\n",
       "      <th>Track End Latitude</th>\n",
       "      <th>Track End Longitude</th>\n",
       "      <th>Affected Counties</th>\n",
       "    </tr>\n",
       "  </thead>\n",
       "  <tbody>\n",
       "    <tr>\n",
       "      <th>0</th>\n",
       "      <td>5/12/1950 14:00</td>\n",
       "      <td>F-1</td>\n",
       "      <td>2.0</td>\n",
       "      <td>10</td>\n",
       "      <td>0</td>\n",
       "      <td>0</td>\n",
       "      <td>$4,000</td>\n",
       "      <td>35.75</td>\n",
       "      <td>-77.42</td>\n",
       "      <td>0.00</td>\n",
       "      <td>0.00</td>\n",
       "      <td>Pitt County NC</td>\n",
       "    </tr>\n",
       "    <tr>\n",
       "      <th>1</th>\n",
       "      <td>5/12/1950 17:00</td>\n",
       "      <td>F-0</td>\n",
       "      <td>1.0</td>\n",
       "      <td>200</td>\n",
       "      <td>0</td>\n",
       "      <td>0</td>\n",
       "      <td>$0 or unknown</td>\n",
       "      <td>35.73</td>\n",
       "      <td>-78.40</td>\n",
       "      <td>0.00</td>\n",
       "      <td>0.00</td>\n",
       "      <td>Wake County NC</td>\n",
       "    </tr>\n",
       "    <tr>\n",
       "      <th>2</th>\n",
       "      <td>5/14/1950 17:00</td>\n",
       "      <td>F-1</td>\n",
       "      <td>3.8</td>\n",
       "      <td>50</td>\n",
       "      <td>0</td>\n",
       "      <td>0</td>\n",
       "      <td>$3,000</td>\n",
       "      <td>35.30</td>\n",
       "      <td>-79.80</td>\n",
       "      <td>35.33</td>\n",
       "      <td>-79.75</td>\n",
       "      <td>Montgomery County NC</td>\n",
       "    </tr>\n",
       "    <tr>\n",
       "      <th>3</th>\n",
       "      <td>5/14/1950 17:30</td>\n",
       "      <td>F-2</td>\n",
       "      <td>2.0</td>\n",
       "      <td>10</td>\n",
       "      <td>5</td>\n",
       "      <td>0</td>\n",
       "      <td>$0 or unknown</td>\n",
       "      <td>35.00</td>\n",
       "      <td>-80.68</td>\n",
       "      <td>0.00</td>\n",
       "      <td>0.00</td>\n",
       "      <td>Union County NC</td>\n",
       "    </tr>\n",
       "    <tr>\n",
       "      <th>4</th>\n",
       "      <td>5/31/1950 15:30</td>\n",
       "      <td>F-1</td>\n",
       "      <td>0.1</td>\n",
       "      <td>10</td>\n",
       "      <td>0</td>\n",
       "      <td>0</td>\n",
       "      <td>$3,000</td>\n",
       "      <td>35.42</td>\n",
       "      <td>-77.25</td>\n",
       "      <td>0.00</td>\n",
       "      <td>0.00</td>\n",
       "      <td>Pitt County NC</td>\n",
       "    </tr>\n",
       "  </tbody>\n",
       "</table>\n",
       "</div>"
      ],
      "text/plain": [
       "  Observation Time Maximum Category  Path Length (miles)  Path Width (yards)  \\\n",
       "0  5/12/1950 14:00              F-1                  2.0                  10   \n",
       "1  5/12/1950 17:00              F-0                  1.0                 200   \n",
       "2  5/14/1950 17:00              F-1                  3.8                  50   \n",
       "3  5/14/1950 17:30              F-2                  2.0                  10   \n",
       "4  5/31/1950 15:30              F-1                  0.1                  10   \n",
       "\n",
       "   Injuries  Fatalities  Monetary Loss  Origin Latitude  Origin Longitude  \\\n",
       "0         0           0        $4,000             35.75            -77.42   \n",
       "1         0           0  $0 or unknown            35.73            -78.40   \n",
       "2         0           0        $3,000             35.30            -79.80   \n",
       "3         5           0  $0 or unknown            35.00            -80.68   \n",
       "4         0           0        $3,000             35.42            -77.25   \n",
       "\n",
       "   Track End Latitude  Track End Longitude     Affected Counties  \n",
       "0                0.00                 0.00        Pitt County NC  \n",
       "1                0.00                 0.00        Wake County NC  \n",
       "2               35.33               -79.75  Montgomery County NC  \n",
       "3                0.00                 0.00       Union County NC  \n",
       "4                0.00                 0.00        Pitt County NC  "
      ]
     },
     "execution_count": 12,
     "metadata": {},
     "output_type": "execute_result"
    }
   ],
   "source": [
    "#setup\n",
    "import matplotlib.pyplot as plt\n",
    "import pandas as pd\n",
    "import scipy.stats as st\n",
    "import numpy as np\n",
    "import datetime\n",
    "import matplotlib.dates\n",
    "import locale\n",
    "from scipy.stats import linregress\n",
    "\n",
    "#read in data recorded for 70 years\n",
    "tor70Path = \"70YearTornadoReport.csv\"\n",
    "tor70= pd.read_csv(tor70Path)\n",
    "tor70.head()"
   ]
  },
  {
   "cell_type": "code",
   "execution_count": 13,
   "metadata": {},
   "outputs": [
    {
     "data": {
      "text/plain": [
       "1356"
      ]
     },
     "execution_count": 13,
     "metadata": {},
     "output_type": "execute_result"
    }
   ],
   "source": [
    "#checking the number of tornadoes from data recorded for 70 years\n",
    "num_tornadoes = tor70[\"Observation Time\"].nunique()\n",
    "num_tornadoes\n",
    "\n",
    "\n"
   ]
  },
  {
   "cell_type": "code",
   "execution_count": 14,
   "metadata": {},
   "outputs": [
    {
     "data": {
      "text/plain": [
       "0    5/12/1950 14:00\n",
       "1    5/12/1950 17:00\n",
       "2    5/14/1950 17:00\n",
       "3    5/14/1950 17:30\n",
       "4    5/31/1950 15:30\n",
       "Name: Observation Time, dtype: object"
      ]
     },
     "execution_count": 14,
     "metadata": {},
     "output_type": "execute_result"
    }
   ],
   "source": [
    "#allows for dates to be utilized later on in graphs\n",
    "date_objects = [datetime.datetime.strptime(date, '%m/%d/%Y %H:%M').date() for date in tor70.loc[:,\"Observation Time\"]] \n",
    "values = tor70.loc[:,\"Observation Time\"]\n",
    "values.head()"
   ]
  },
  {
   "cell_type": "code",
   "execution_count": 15,
   "metadata": {},
   "outputs": [
    {
     "data": {
      "text/plain": [
       "Text(0, 0.5, 'Tornado Frequency')"
      ]
     },
     "execution_count": 15,
     "metadata": {},
     "output_type": "execute_result"
    },
    {
     "data": {
      "image/png": "[encoded data removed]",
      "text/plain": [
       "<Figure size 432x288 with 1 Axes>"
      ]
     },
     "metadata": {
      "needs_background": "light"
     },
     "output_type": "display_data"
    }
   ],
   "source": [
    "#bar graph on frequency of tornados over time\n",
    "tor70['Year'] = pd.DatetimeIndex(tor70['Observation Time']).year\n",
    "tor70Grouped = (tor70.groupby(['Year']).size().reset_index(name = \"tornado frequency\"))\n",
    "\n",
    "\n",
    "\n",
    "tor70Plot = tor70Grouped.plot.bar(x = \"Year\", y = \"tornado frequency\", color = \"blue\")\n",
    "tor70Plot.set_ylabel(\"Tornado Frequency\")"
   ]
  },
  {
   "cell_type": "code",
   "execution_count": 16,
   "metadata": {},
   "outputs": [
    {
     "data": {
      "text/html": [
       "<div>\n",
       "<style scoped>\n",
       "    .dataframe tbody tr th:only-of-type {\n",
       "        vertical-align: middle;\n",
       "    }\n",
       "\n",
       "    .dataframe tbody tr th {\n",
       "        vertical-align: top;\n",
       "    }\n",
       "\n",
       "    .dataframe thead th {\n",
       "        text-align: right;\n",
       "    }\n",
       "</style>\n",
       "<table border=\"1\" class=\"dataframe\">\n",
       "  <thead>\n",
       "    <tr style=\"text-align: right;\">\n",
       "      <th></th>\n",
       "      <th>Observation Time</th>\n",
       "      <th>Maximum Category</th>\n",
       "      <th>Path Length (miles)</th>\n",
       "      <th>Path Width (yards)</th>\n",
       "      <th>Injuries</th>\n",
       "      <th>Fatalities</th>\n",
       "      <th>Monetary Loss</th>\n",
       "      <th>Origin Latitude</th>\n",
       "      <th>Origin Longitude</th>\n",
       "      <th>Track End Latitude</th>\n",
       "      <th>Track End Longitude</th>\n",
       "      <th>Affected Counties</th>\n",
       "    </tr>\n",
       "  </thead>\n",
       "  <tbody>\n",
       "    <tr>\n",
       "      <th>0</th>\n",
       "      <td>2/23/1980 17:00</td>\n",
       "      <td>F-0</td>\n",
       "      <td>0.1</td>\n",
       "      <td>10</td>\n",
       "      <td>0</td>\n",
       "      <td>0</td>\n",
       "      <td>$0 or unknown</td>\n",
       "      <td>35.62</td>\n",
       "      <td>-77.60</td>\n",
       "      <td>0.00</td>\n",
       "      <td>0.00</td>\n",
       "      <td>Pitt County NC</td>\n",
       "    </tr>\n",
       "    <tr>\n",
       "      <th>1</th>\n",
       "      <td>2/25/1980 16:15</td>\n",
       "      <td>F-0</td>\n",
       "      <td>0.1</td>\n",
       "      <td>10</td>\n",
       "      <td>0</td>\n",
       "      <td>0</td>\n",
       "      <td>$2,000</td>\n",
       "      <td>35.02</td>\n",
       "      <td>-78.57</td>\n",
       "      <td>0.00</td>\n",
       "      <td>0.00</td>\n",
       "      <td>Clay County NC</td>\n",
       "    </tr>\n",
       "    <tr>\n",
       "      <th>2</th>\n",
       "      <td>3/24/1980 22:25</td>\n",
       "      <td>F-1</td>\n",
       "      <td>1.2</td>\n",
       "      <td>150</td>\n",
       "      <td>0</td>\n",
       "      <td>0</td>\n",
       "      <td>$5,000</td>\n",
       "      <td>36.27</td>\n",
       "      <td>-77.28</td>\n",
       "      <td>0.00</td>\n",
       "      <td>0.00</td>\n",
       "      <td>Northampton County NC</td>\n",
       "    </tr>\n",
       "    <tr>\n",
       "      <th>3</th>\n",
       "      <td>4/9/1980 0:15</td>\n",
       "      <td>F-1</td>\n",
       "      <td>1.9</td>\n",
       "      <td>37</td>\n",
       "      <td>0</td>\n",
       "      <td>0</td>\n",
       "      <td>$5,000</td>\n",
       "      <td>36.15</td>\n",
       "      <td>-80.30</td>\n",
       "      <td>36.15</td>\n",
       "      <td>-80.27</td>\n",
       "      <td>Forsyth County NC</td>\n",
       "    </tr>\n",
       "    <tr>\n",
       "      <th>4</th>\n",
       "      <td>4/27/1980 11:15</td>\n",
       "      <td>F-0</td>\n",
       "      <td>0.1</td>\n",
       "      <td>10</td>\n",
       "      <td>0</td>\n",
       "      <td>0</td>\n",
       "      <td>$0 or unknown</td>\n",
       "      <td>34.13</td>\n",
       "      <td>-78.10</td>\n",
       "      <td>0.00</td>\n",
       "      <td>0.00</td>\n",
       "      <td>Brunswick County NC</td>\n",
       "    </tr>\n",
       "  </tbody>\n",
       "</table>\n",
       "</div>"
      ],
      "text/plain": [
       "  Observation Time Maximum Category  Path Length (miles)  Path Width (yards)  \\\n",
       "0  2/23/1980 17:00              F-0                  0.1                  10   \n",
       "1  2/25/1980 16:15              F-0                  0.1                  10   \n",
       "2  3/24/1980 22:25              F-1                  1.2                 150   \n",
       "3    4/9/1980 0:15              F-1                  1.9                  37   \n",
       "4  4/27/1980 11:15              F-0                  0.1                  10   \n",
       "\n",
       "   Injuries  Fatalities  Monetary Loss  Origin Latitude  Origin Longitude  \\\n",
       "0         0           0  $0 or unknown            35.62            -77.60   \n",
       "1         0           0        $2,000             35.02            -78.57   \n",
       "2         0           0        $5,000             36.27            -77.28   \n",
       "3         0           0        $5,000             36.15            -80.30   \n",
       "4         0           0  $0 or unknown            34.13            -78.10   \n",
       "\n",
       "   Track End Latitude  Track End Longitude      Affected Counties  \n",
       "0                0.00                 0.00         Pitt County NC  \n",
       "1                0.00                 0.00         Clay County NC  \n",
       "2                0.00                 0.00  Northampton County NC  \n",
       "3               36.15               -80.27      Forsyth County NC  \n",
       "4                0.00                 0.00    Brunswick County NC  "
      ]
     },
     "execution_count": 16,
     "metadata": {},
     "output_type": "execute_result"
    }
   ],
   "source": [
    "##read in data recorded for 40 years\n",
    "tor40Path = \"40YearTornadoReport.csv\"\n",
    "tor40 = pd.read_csv(tor40Path)\n",
    "tor40.head()"
   ]
  },
  {
   "cell_type": "code",
   "execution_count": 17,
   "metadata": {},
   "outputs": [
    {
     "data": {
      "text/plain": [
       "0    2/23/1980 17:00\n",
       "1    2/25/1980 16:15\n",
       "2    3/24/1980 22:25\n",
       "3      4/9/1980 0:15\n",
       "4    4/27/1980 11:15\n",
       "Name: Observation Time, dtype: object"
      ]
     },
     "execution_count": 17,
     "metadata": {},
     "output_type": "execute_result"
    }
   ],
   "source": [
    "#allows for dates to be utilized later on in graphs(40 years)\n",
    "date_objects = [datetime.datetime.strptime(date, '%m/%d/%Y %H:%M').date() for date in tor40.loc[:,\"Observation Time\"]] \n",
    "values = tor40.loc[:,\"Observation Time\"]\n",
    "values.head()"
   ]
  },
  {
   "cell_type": "code",
   "execution_count": 18,
   "metadata": {},
   "outputs": [
    {
     "data": {
      "text/plain": [
       "Text(0, 0.5, 'Tornado Frequency')"
      ]
     },
     "execution_count": 18,
     "metadata": {},
     "output_type": "execute_result"
    },
    {
     "data": {
      "image/png": "[encoded data removed]",
      "text/plain": [
       "<Figure size 432x288 with 1 Axes>"
      ]
     },
     "metadata": {
      "needs_background": "light"
     },
     "output_type": "display_data"
    }
   ],
   "source": [
    "#bar graph on frequency of tornados over time(40 years)\n",
    "tor40['Year'] = pd.DatetimeIndex(tor40['Observation Time']).year\n",
    "tor40Grouped = (tor40.groupby(['Year']).size().reset_index(name = \"tornado frequency\"))\n",
    "\n",
    "\n",
    "\n",
    "tor40Plot = tor40Grouped.plot.bar(x = \"Year\", y = \"tornado frequency\", color = \"blue\")\n",
    "tor40Plot.set_ylabel(\"Tornado Frequency\")"
   ]
  },
  {
   "cell_type": "code",
   "execution_count": 19,
   "metadata": {},
   "outputs": [
    {
     "data": {
      "text/html": [
       "<div>\n",
       "<style scoped>\n",
       "    .dataframe tbody tr th:only-of-type {\n",
       "        vertical-align: middle;\n",
       "    }\n",
       "\n",
       "    .dataframe tbody tr th {\n",
       "        vertical-align: top;\n",
       "    }\n",
       "\n",
       "    .dataframe thead th {\n",
       "        text-align: right;\n",
       "    }\n",
       "</style>\n",
       "<table border=\"1\" class=\"dataframe\">\n",
       "  <thead>\n",
       "    <tr style=\"text-align: right;\">\n",
       "      <th></th>\n",
       "      <th>Observation Time</th>\n",
       "      <th>Maximum Category</th>\n",
       "      <th>Path Length (miles)</th>\n",
       "      <th>Path Width (yards)</th>\n",
       "      <th>Injuries</th>\n",
       "      <th>Fatalities</th>\n",
       "      <th>Monetary Loss</th>\n",
       "      <th>Origin Latitude</th>\n",
       "      <th>Origin Longitude</th>\n",
       "      <th>Track End Latitude</th>\n",
       "      <th>Track End Longitude</th>\n",
       "      <th>Affected Counties</th>\n",
       "      <th>Year</th>\n",
       "    </tr>\n",
       "  </thead>\n",
       "  <tbody>\n",
       "    <tr>\n",
       "      <th>1</th>\n",
       "      <td>2/25/1980 16:15</td>\n",
       "      <td>F-0</td>\n",
       "      <td>0.1</td>\n",
       "      <td>10</td>\n",
       "      <td>0</td>\n",
       "      <td>0</td>\n",
       "      <td>$2,000</td>\n",
       "      <td>35.02</td>\n",
       "      <td>-78.57</td>\n",
       "      <td>0.00</td>\n",
       "      <td>0.00</td>\n",
       "      <td>Clay County NC</td>\n",
       "      <td>1980</td>\n",
       "    </tr>\n",
       "    <tr>\n",
       "      <th>2</th>\n",
       "      <td>3/24/1980 22:25</td>\n",
       "      <td>F-1</td>\n",
       "      <td>1.2</td>\n",
       "      <td>150</td>\n",
       "      <td>0</td>\n",
       "      <td>0</td>\n",
       "      <td>$5,000</td>\n",
       "      <td>36.27</td>\n",
       "      <td>-77.28</td>\n",
       "      <td>0.00</td>\n",
       "      <td>0.00</td>\n",
       "      <td>Northampton County NC</td>\n",
       "      <td>1980</td>\n",
       "    </tr>\n",
       "    <tr>\n",
       "      <th>3</th>\n",
       "      <td>4/9/1980 0:15</td>\n",
       "      <td>F-1</td>\n",
       "      <td>1.9</td>\n",
       "      <td>37</td>\n",
       "      <td>0</td>\n",
       "      <td>0</td>\n",
       "      <td>$5,000</td>\n",
       "      <td>36.15</td>\n",
       "      <td>-80.30</td>\n",
       "      <td>36.15</td>\n",
       "      <td>-80.27</td>\n",
       "      <td>Forsyth County NC</td>\n",
       "      <td>1980</td>\n",
       "    </tr>\n",
       "    <tr>\n",
       "      <th>5</th>\n",
       "      <td>5/18/1980 1:40</td>\n",
       "      <td>F-2</td>\n",
       "      <td>3.3</td>\n",
       "      <td>50</td>\n",
       "      <td>0</td>\n",
       "      <td>0</td>\n",
       "      <td>$5,000</td>\n",
       "      <td>35.10</td>\n",
       "      <td>-80.43</td>\n",
       "      <td>35.12</td>\n",
       "      <td>-80.38</td>\n",
       "      <td>Union County NC</td>\n",
       "      <td>1980</td>\n",
       "    </tr>\n",
       "    <tr>\n",
       "      <th>6</th>\n",
       "      <td>5/20/1980 13:42</td>\n",
       "      <td>F-1</td>\n",
       "      <td>0.2</td>\n",
       "      <td>10</td>\n",
       "      <td>0</td>\n",
       "      <td>0</td>\n",
       "      <td>$4,000</td>\n",
       "      <td>34.48</td>\n",
       "      <td>-79.08</td>\n",
       "      <td>0.00</td>\n",
       "      <td>0.00</td>\n",
       "      <td>Robeson County NC</td>\n",
       "      <td>1980</td>\n",
       "    </tr>\n",
       "  </tbody>\n",
       "</table>\n",
       "</div>"
      ],
      "text/plain": [
       "  Observation Time Maximum Category  Path Length (miles)  Path Width (yards)  \\\n",
       "1  2/25/1980 16:15              F-0                  0.1                  10   \n",
       "2  3/24/1980 22:25              F-1                  1.2                 150   \n",
       "3    4/9/1980 0:15              F-1                  1.9                  37   \n",
       "5   5/18/1980 1:40              F-2                  3.3                  50   \n",
       "6  5/20/1980 13:42              F-1                  0.2                  10   \n",
       "\n",
       "   Injuries  Fatalities Monetary Loss  Origin Latitude  Origin Longitude  \\\n",
       "1         0           0       $2,000             35.02            -78.57   \n",
       "2         0           0       $5,000             36.27            -77.28   \n",
       "3         0           0       $5,000             36.15            -80.30   \n",
       "5         0           0       $5,000             35.10            -80.43   \n",
       "6         0           0       $4,000             34.48            -79.08   \n",
       "\n",
       "   Track End Latitude  Track End Longitude      Affected Counties  Year  \n",
       "1                0.00                 0.00         Clay County NC  1980  \n",
       "2                0.00                 0.00  Northampton County NC  1980  \n",
       "3               36.15               -80.27      Forsyth County NC  1980  \n",
       "5               35.12               -80.38        Union County NC  1980  \n",
       "6                0.00                 0.00      Robeson County NC  1980  "
      ]
     },
     "execution_count": 19,
     "metadata": {},
     "output_type": "execute_result"
    }
   ],
   "source": [
    "##eliminate values of Monetary Loss that are $0 or unkown(making assumption that if a tornado caused even the slightest form of environmental damage, there must be some cost)\n",
    "tor40.drop(tor40.index[tor40['Monetary Loss'] == \"$0 or unknown\"], inplace = True)\n",
    "tor40.head()"
   ]
  },
  {
   "cell_type": "code",
   "execution_count": 20,
   "metadata": {},
   "outputs": [
    {
     "data": {
      "text/plain": [
       "[<matplotlib.lines.Line2D at 0x1d973e286a0>]"
      ]
     },
     "execution_count": 20,
     "metadata": {},
     "output_type": "execute_result"
    },
    {
     "data": {
      "image/png": "[encoded data removed]",
      "text/plain": [
       "<Figure size 1440x2160 with 1 Axes>"
      ]
     },
     "metadata": {
      "needs_background": "light"
     },
     "output_type": "display_data"
    }
   ],
   "source": [
    "##line graph on cost in terms of monetary loss from tornado damages over time\n",
    "tor40.drop(tor40.index[tor40['Monetary Loss'] == \"$0 or unknown\"], inplace = True)\n",
    "dates = tor40.loc[:,\"Observation Time\"]\n",
    "dateVals = []\n",
    "\n",
    "for date in dates:\n",
    "    dateVals.append(datetime.datetime.strptime(date, '%m/%d/%Y %H:%M'))\n",
    "    \n",
    "locale.setlocale(locale.LC_ALL, 'en_US.UTF8')    \n",
    "    \n",
    "\n",
    "damageCost = []\n",
    "\n",
    "\n",
    "for line in tor40[\"Monetary Loss\"]:\n",
    "    damageCost.append(locale.atof(line.strip(\"$\")))\n",
    "\n",
    "plt.figure(figsize = (20,30))\n",
    "plt.plot(dateVals, damageCost)"
   ]
  }
 ],
 "metadata": {
  "kernelspec": {
   "display_name": "Python 3",
   "language": "python",
   "name": "python3"
  },
  "language_info": {
   "codemirror_mode": {
    "name": "ipython",
    "version": 3
   },
   "file_extension": ".py",
   "mimetype": "text/x-python",
   "name": "python",
   "nbconvert_exporter": "python",
   "pygments_lexer": "ipython3",
   "version": "3.8.5"
  }
 },
 "nbformat": 4,
 "nbformat_minor": 4
}
