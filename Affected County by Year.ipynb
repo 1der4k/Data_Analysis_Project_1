{
 "cells": [
  {
   "cell_type": "code",
   "execution_count": 11,
   "metadata": {},
   "outputs": [],
   "source": [
    "# Dependencies\n",
    "import matplotlib.pyplot as plt\n",
    "import numpy as np\n",
    "import pandas as pd"
   ]
  },
  {
   "cell_type": "code",
   "execution_count": 15,
   "metadata": {},
   "outputs": [
    {
     "data": {
      "text/html": [
       "<div>\n",
       "<style scoped>\n",
       "    .dataframe tbody tr th:only-of-type {\n",
       "        vertical-align: middle;\n",
       "    }\n",
       "\n",
       "    .dataframe tbody tr th {\n",
       "        vertical-align: top;\n",
       "    }\n",
       "\n",
       "    .dataframe thead th {\n",
       "        text-align: right;\n",
       "    }\n",
       "</style>\n",
       "<table border=\"1\" class=\"dataframe\">\n",
       "  <thead>\n",
       "    <tr style=\"text-align: right;\">\n",
       "      <th></th>\n",
       "      <th>Observation Time</th>\n",
       "      <th>Wind Speed (knots)</th>\n",
       "      <th>Wind Speed (mph)</th>\n",
       "      <th>Wind Speed (m/s)</th>\n",
       "      <th>Latitude</th>\n",
       "      <th>Longitude</th>\n",
       "      <th>Affected County</th>\n",
       "    </tr>\n",
       "  </thead>\n",
       "  <tbody>\n",
       "    <tr>\n",
       "      <th>0</th>\n",
       "      <td>1/25/2010 3:07</td>\n",
       "      <td>50</td>\n",
       "      <td>57.54</td>\n",
       "      <td>25.72</td>\n",
       "      <td>34.5176</td>\n",
       "      <td>-78.5419</td>\n",
       "      <td>Bladen County NC</td>\n",
       "    </tr>\n",
       "    <tr>\n",
       "      <th>1</th>\n",
       "      <td>1/25/2010 3:12</td>\n",
       "      <td>50</td>\n",
       "      <td>57.54</td>\n",
       "      <td>25.72</td>\n",
       "      <td>34.4568</td>\n",
       "      <td>-78.4314</td>\n",
       "      <td>Bladen County NC</td>\n",
       "    </tr>\n",
       "    <tr>\n",
       "      <th>2</th>\n",
       "      <td>1/25/2010 3:15</td>\n",
       "      <td>50</td>\n",
       "      <td>57.54</td>\n",
       "      <td>25.72</td>\n",
       "      <td>35.6353</td>\n",
       "      <td>-78.4412</td>\n",
       "      <td>Johnston County NC</td>\n",
       "    </tr>\n",
       "    <tr>\n",
       "      <th>3</th>\n",
       "      <td>1/25/2010 3:20</td>\n",
       "      <td>50</td>\n",
       "      <td>57.54</td>\n",
       "      <td>25.72</td>\n",
       "      <td>35.4800</td>\n",
       "      <td>-78.4400</td>\n",
       "      <td>Johnston County NC</td>\n",
       "    </tr>\n",
       "    <tr>\n",
       "      <th>4</th>\n",
       "      <td>1/25/2010 4:57</td>\n",
       "      <td>52</td>\n",
       "      <td>59.84</td>\n",
       "      <td>26.75</td>\n",
       "      <td>33.9708</td>\n",
       "      <td>-78.3882</td>\n",
       "      <td>Brunswick County NC</td>\n",
       "    </tr>\n",
       "    <tr>\n",
       "      <th>...</th>\n",
       "      <td>...</td>\n",
       "      <td>...</td>\n",
       "      <td>...</td>\n",
       "      <td>...</td>\n",
       "      <td>...</td>\n",
       "      <td>...</td>\n",
       "      <td>...</td>\n",
       "    </tr>\n",
       "    <tr>\n",
       "      <th>6223</th>\n",
       "      <td>10/31/2019 18:28</td>\n",
       "      <td>50</td>\n",
       "      <td>57.54</td>\n",
       "      <td>25.72</td>\n",
       "      <td>36.3300</td>\n",
       "      <td>-78.5900</td>\n",
       "      <td>Granville County NC</td>\n",
       "    </tr>\n",
       "    <tr>\n",
       "      <th>6224</th>\n",
       "      <td>10/31/2019 18:39</td>\n",
       "      <td>50</td>\n",
       "      <td>57.54</td>\n",
       "      <td>25.72</td>\n",
       "      <td>36.1166</td>\n",
       "      <td>-78.6142</td>\n",
       "      <td>Granville County NC</td>\n",
       "    </tr>\n",
       "    <tr>\n",
       "      <th>6225</th>\n",
       "      <td>10/31/2019 18:49</td>\n",
       "      <td>50</td>\n",
       "      <td>57.54</td>\n",
       "      <td>25.72</td>\n",
       "      <td>35.6984</td>\n",
       "      <td>-78.6937</td>\n",
       "      <td>Wake County NC</td>\n",
       "    </tr>\n",
       "    <tr>\n",
       "      <th>6226</th>\n",
       "      <td>10/31/2019 19:00</td>\n",
       "      <td>50</td>\n",
       "      <td>57.54</td>\n",
       "      <td>25.72</td>\n",
       "      <td>35.1888</td>\n",
       "      <td>-79.1301</td>\n",
       "      <td>Moore County NC</td>\n",
       "    </tr>\n",
       "    <tr>\n",
       "      <th>6227</th>\n",
       "      <td>10/31/2019 23:11</td>\n",
       "      <td>50</td>\n",
       "      <td>57.54</td>\n",
       "      <td>25.72</td>\n",
       "      <td>36.5100</td>\n",
       "      <td>-76.1800</td>\n",
       "      <td>Currituck County NC</td>\n",
       "    </tr>\n",
       "  </tbody>\n",
       "</table>\n",
       "<p>6228 rows × 7 columns</p>\n",
       "</div>"
      ],
      "text/plain": [
       "      Observation Time  Wind Speed (knots)  Wind Speed (mph)  \\\n",
       "0       1/25/2010 3:07                  50             57.54   \n",
       "1       1/25/2010 3:12                  50             57.54   \n",
       "2       1/25/2010 3:15                  50             57.54   \n",
       "3       1/25/2010 3:20                  50             57.54   \n",
       "4       1/25/2010 4:57                  52             59.84   \n",
       "...                ...                 ...               ...   \n",
       "6223  10/31/2019 18:28                  50             57.54   \n",
       "6224  10/31/2019 18:39                  50             57.54   \n",
       "6225  10/31/2019 18:49                  50             57.54   \n",
       "6226  10/31/2019 19:00                  50             57.54   \n",
       "6227  10/31/2019 23:11                  50             57.54   \n",
       "\n",
       "      Wind Speed (m/s)  Latitude  Longitude      Affected County  \n",
       "0                25.72   34.5176   -78.5419     Bladen County NC  \n",
       "1                25.72   34.4568   -78.4314     Bladen County NC  \n",
       "2                25.72   35.6353   -78.4412   Johnston County NC  \n",
       "3                25.72   35.4800   -78.4400   Johnston County NC  \n",
       "4                26.75   33.9708   -78.3882  Brunswick County NC  \n",
       "...                ...       ...        ...                  ...  \n",
       "6223             25.72   36.3300   -78.5900  Granville County NC  \n",
       "6224             25.72   36.1166   -78.6142  Granville County NC  \n",
       "6225             25.72   35.6984   -78.6937       Wake County NC  \n",
       "6226             25.72   35.1888   -79.1301      Moore County NC  \n",
       "6227             25.72   36.5100   -76.1800  Currituck County NC  \n",
       "\n",
       "[6228 rows x 7 columns]"
      ]
     },
     "execution_count": 15,
     "metadata": {},
     "output_type": "execute_result"
    }
   ],
   "source": [
    "# Load in csv\n",
    "wind_string = 'wind.csv'\n",
    "wind_df = pd.read_csv(wind_string)\n",
    "\n",
    "wind_df"
   ]
  },
  {
   "cell_type": "code",
   "execution_count": 16,
   "metadata": {},
   "outputs": [
    {
     "data": {
      "text/plain": [
       "Observation Time\n",
       "1/11/2014 11:05    1\n",
       "1/11/2014 11:33    1\n",
       "1/11/2014 11:35    1\n",
       "1/11/2014 11:45    1\n",
       "1/11/2014 12:10    1\n",
       "                  ..\n",
       "9/8/2019 15:33     1\n",
       "9/9/2018 14:40     1\n",
       "9/9/2019 14:50     1\n",
       "9/9/2019 16:35     1\n",
       "9/9/2019 18:20     1\n",
       "Name: Observation Time, Length: 6228, dtype: int64"
      ]
     },
     "execution_count": 16,
     "metadata": {},
     "output_type": "execute_result"
    }
   ],
   "source": [
    "# Create a group based on the values in the 'maker' column\n",
    "Observation_Time_group = wind_df.groupby('Observation Time')\n",
    "\n",
    "# Count how many times each maker appears in our group\n",
    "count_Observation_Time = Observation_Time_group['Observation Time'].count()\n",
    "\n",
    "count_Observation_Time"
   ]
  },
  {
   "cell_type": "code",
   "execution_count": 14,
   "metadata": {},
   "outputs": [
    {
     "data": {
      "image/png": "[encoded data removed]",
      "text/plain": [
       "<Figure size 432x288 with 1 Axes>"
      ]
     },
     "metadata": {
      "needs_background": "light"
     },
     "output_type": "display_data"
    },
    {
     "data": {
      "text/plain": [
       "<Figure size 432x288 with 0 Axes>"
      ]
     },
     "metadata": {},
     "output_type": "display_data"
    }
   ],
   "source": [
    "# Create a bar chart based off of the group series from before\n",
    "count_chart = count_Observation_Time.plot(kind='bar')\n",
    "\n",
    "# Set the xlabel and ylabel using class methods\n",
    "count_chart.set_xlabel(\"Year\")\n",
    "count_chart.set_ylabel(\"County\")\n",
    "\n",
    "\n",
    "plt.show()\n",
    "plt.tight_layout()"
   ]
  },
  {
   "cell_type": "code",
   "execution_count": null,
   "metadata": {},
   "outputs": [],
   "source": []
  }
 ],
 "metadata": {
  "kernelspec": {
   "display_name": "Python 3",
   "language": "python",
   "name": "python3"
  },
  "language_info": {
   "codemirror_mode": {
    "name": "ipython",
    "version": 3
   },
   "file_extension": ".py",
   "mimetype": "text/x-python",
   "name": "python",
   "nbconvert_exporter": "python",
   "pygments_lexer": "ipython3",
   "version": "3.8.5"
  }
 },
 "nbformat": 4,
 "nbformat_minor": 4
}
