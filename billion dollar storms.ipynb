{
 "cells": [
  {
   "cell_type": "code",
   "execution_count": 2,
   "metadata": {},
   "outputs": [],
   "source": [
    "import matplotlib.pyplot as plt\n",
    "import pandas as pd\n",
    "import scipy.stats as st\n",
    "import numpy as np\n",
    "from scipy.stats import linregress"
   ]
  },
  {
   "cell_type": "code",
   "execution_count": 4,
   "metadata": {},
   "outputs": [],
   "source": [
    "import pprint as pprint"
   ]
  },
  {
   "cell_type": "code",
   "execution_count": 5,
   "metadata": {},
   "outputs": [],
   "source": [
    "import requests\n",
    "\n",
    "url = 'https://www.ncdc.noaa.gov/billions/events-NC-1980-2020.json'\n",
    "data = requests.get(url).json()"
   ]
  },
  {
   "cell_type": "code",
   "execution_count": 7,
   "metadata": {},
   "outputs": [
    {
     "name": "stdout",
     "output_type": "stream",
     "text": [
      "{'description': {'title': 'Weather and Climate Billion-Dollar Disasters to affect North Carolina from 1980-2020 (CPI-Adjusted)', 'units': 'Cost values are CPI-Adjusted in millions of dollars'}, 'data': [{'name': 'Central/Eastern Drought/Heatwave (Summer-Fall 1980)', 'disaster': 'Drought', 'begDate': 19800601, 'totalCost': '33466.8', 'endDate': 19801130, 'deaths': 1260}, {'name': 'Midwest/Southeast/Northeast Winter Storm, Cold Wave (January 1982)', 'disaster': 'Winter Storm', 'begDate': 19820108, 'totalCost': '1827.2', 'endDate': 19820116, 'deaths': 85}, {'name': 'Southeast Drought (Summer 1983)', 'disaster': 'Drought', 'begDate': 19830601, 'totalCost': '7884.5', 'endDate': 19830831, 'deaths': 0}, {'name': 'Freeze, Cold Wave (December 1983)', 'disaster': 'Freeze', 'begDate': 19831215, 'totalCost': '5336.0', 'endDate': 19831225, 'deaths': 151}, {'name': 'Tornadoes, Severe Storms, Floods (Spring 1984)', 'disaster': 'Severe Storm', 'begDate': 19840327, 'totalCost': '1537.8', 'endDate': 19840407, 'deaths': 80}, {'name': 'Winter Storm, Cold Wave (January 1985)', 'disaster': 'Winter Storm', 'begDate': 19850119, 'totalCost': '2067.7', 'endDate': 19850122, 'deaths': 150}, {'name': 'Hurricane Gloria (September 1985)', 'disaster': 'Tropical Cyclone', 'begDate': 19850926, 'totalCost': '2114.6', 'endDate': 19850928, 'deaths': 11}, {'name': 'Southeast Drought/Heatwave (Summer 1986)', 'disaster': 'Drought', 'begDate': 19860601, 'totalCost': '4274.6', 'endDate': 19860831, 'deaths': 100}, {'name': 'Severe Storms (May 1989)', 'disaster': 'Severe Storm', 'begDate': 19890501, 'totalCost': '1185.8', 'endDate': 19890506, 'deaths': 21}, {'name': 'Hurricane Hugo (September 1989)', 'disaster': 'Tropical Cyclone', 'begDate': 19890921, 'totalCost': '19349.8', 'endDate': 19890922, 'deaths': 86}, {'name': 'Winter Storm, Cold Wave (December 1989)', 'disaster': 'Winter Storm', 'begDate': 19891221, 'totalCost': '1462.5', 'endDate': 19891226, 'deaths': 100}, {'name': 'Severe Storms, Tornadoes (March 1991)', 'disaster': 'Severe Storm', 'begDate': 19910326, 'totalCost': '1245.1', 'endDate': 19910329, 'deaths': 0}, {'name': 'Hurricane Bob (August 1991)', 'disaster': 'Tropical Cyclone', 'begDate': 19910818, 'totalCost': '2900.6', 'endDate': 19910820, 'deaths': 18}, {'name': 'Southeast Severe Weather (November 1992)', 'disaster': 'Severe Storm', 'begDate': 19921121, 'totalCost': '1235.2', 'endDate': 19921123, 'deaths': 26}, {'name': 'East Coast Blizzard and Severe Weather (March 1993)', 'disaster': 'Winter Storm', 'begDate': 19930311, 'totalCost': '10059.1', 'endDate': 19930314, 'deaths': 270}, {'name': 'Southeast Drought/Heat Wave (Summer 1993)', 'disaster': 'Drought', 'begDate': 19930601, 'totalCost': '2289.6', 'endDate': 19930831, 'deaths': 16}, {'name': 'Winter Storm, Cold Wave (January 1994)', 'disaster': 'Winter Storm', 'begDate': 19940117, 'totalCost': '1851.4', 'endDate': 19940120, 'deaths': 70}, {'name': 'Southeast Ice Storm (February 1994)', 'disaster': 'Winter Storm', 'begDate': 19940208, 'totalCost': '5335.7', 'endDate': 19940213, 'deaths': 9}, {'name': 'Hurricane Opal (October 1995)', 'disaster': 'Tropical Cyclone', 'begDate': 19951004, 'totalCost': '8111.9', 'endDate': 19951006, 'deaths': 27}, {'name': 'Blizzard/Floods (January 1996)', 'disaster': 'Winter Storm', 'begDate': 19960101, 'totalCost': '5075.1', 'endDate': 19960131, 'deaths': 187}, {'name': 'Hurricane Fran (September 1996)', 'disaster': 'Tropical Cyclone', 'begDate': 19960905, 'totalCost': '8461.8', 'endDate': 19960908, 'deaths': 37}, {'name': 'Mississippi and Ohio Valley Severe Weather and Flooding (March 1997)', 'disaster': 'Severe Storm', 'begDate': 19970228, 'totalCost': '1603.4', 'endDate': 19970305, 'deaths': 67}, {'name': 'Western/Eastern Severe Weather and Flooding (Winter-Spring 1998)', 'disaster': 'Severe Storm', 'begDate': 19971201, 'totalCost': '1647.4', 'endDate': 19980228, 'deaths': 132}, {'name': 'Severe Storms, Tornadoes (June 1998)', 'disaster': 'Severe Storm', 'begDate': 19980530, 'totalCost': '1832.7', 'endDate': 19980602, 'deaths': 20}, {'name': 'Hurricane Bonnie (August 1998)', 'disaster': 'Tropical Cyclone', 'begDate': 19980827, 'totalCost': '1577.9', 'endDate': 19980829, 'deaths': 3}, {'name': 'Southern Drought/Heat Wave (Summer 1998)', 'disaster': 'Drought', 'begDate': 19980601, 'totalCost': '5680.2', 'endDate': 19980831, 'deaths': 200}, {'name': 'Central and Eastern Winter Storm (January 1999)', 'disaster': 'Winter Storm', 'begDate': 19990101, 'totalCost': '1631.4', 'endDate': 19990104, 'deaths': 25}, {'name': 'Oklahoma and Kansas Tornadoes (May 1999)', 'disaster': 'Severe Storm', 'begDate': 19990503, 'totalCost': '3179.3', 'endDate': 19990506, 'deaths': 55}, {'name': 'Eastern Drought/Heatwave (Summer 1999)', 'disaster': 'Drought', 'begDate': 19990601, 'totalCost': '3948.3', 'endDate': 19990831, 'deaths': 502}, {'name': 'Hurricane Floyd (September 1999)', 'disaster': 'Tropical Cyclone', 'begDate': 19990914, 'totalCost': '10255.8', 'endDate': 19990916, 'deaths': 77}, {'name': 'Southeast Winter Storm (January 2000)', 'disaster': 'Winter Storm', 'begDate': 20000121, 'totalCost': '1087.2', 'endDate': 20000124, 'deaths': 4}, {'name': 'Severe Storms and Tornadoes (April 2002)', 'disaster': 'Severe Storm', 'begDate': 20020427, 'totalCost': '3077.8', 'endDate': 20020428, 'deaths': 7}, {'name': 'U.S. Drought (Spring-Fall 2002)', 'disaster': 'Drought', 'begDate': 20020301, 'totalCost': '13239.5', 'endDate': 20021130, 'deaths': 0}, {'name': 'Severe Storms/Tornadoes (May 2003)', 'disaster': 'Severe Storm', 'begDate': 20030503, 'totalCost': '5903.7', 'endDate': 20030510, 'deaths': 51}, {'name': 'Hurricane Isabel (September 2003)', 'disaster': 'Tropical Cyclone', 'begDate': 20030918, 'totalCost': '7842.3', 'endDate': 20030919, 'deaths': 55}, {'name': 'Severe Storms, Hail, Tornadoes (May 2004)', 'disaster': 'Severe Storm', 'begDate': 20040521, 'totalCost': '1429.4', 'endDate': 20040527, 'deaths': 4}, {'name': 'Hurricane Charley (August 2004)', 'disaster': 'Tropical Cyclone', 'begDate': 20040813, 'totalCost': '22559.3', 'endDate': 20040814, 'deaths': 35}, {'name': 'Hurricane Frances (September 2004)', 'disaster': 'Tropical Cyclone', 'begDate': 20040903, 'totalCost': '13817.9', 'endDate': 20040909, 'deaths': 48}, {'name': 'Hurricane Ivan (September 2004)', 'disaster': 'Tropical Cyclone', 'begDate': 20040912, 'totalCost': '28905.7', 'endDate': 20040921, 'deaths': 57}, {'name': 'Hurricane Jeanne (September 2004)', 'disaster': 'Tropical Cyclone', 'begDate': 20040915, 'totalCost': '10570.1', 'endDate': 20040929, 'deaths': 28}, {'name': 'Southeast Severe Weather (March 2005)', 'disaster': 'Severe Storm', 'begDate': 20050324, 'totalCost': '1176.5', 'endDate': 20050327, 'deaths': 0}, {'name': 'Spring Freeze (April 2007)', 'disaster': 'Freeze', 'begDate': 20070404, 'totalCost': '2637.0', 'endDate': 20070410, 'deaths': 0}, {'name': 'East/South Severe Weather and Flooding (April 2007)', 'disaster': 'Severe Storm', 'begDate': 20070413, 'totalCost': '3235.1', 'endDate': 20070417, 'deaths': 9}, {'name': 'Western/Eastern Drought/Heatwave (Summer-Fall 2007)', 'disaster': 'Drought', 'begDate': 20070601, 'totalCost': '4564.5', 'endDate': 20071130, 'deaths': 15}, {'name': 'U.S. Wildfires (Fall 2008)', 'disaster': 'Wildfire', 'begDate': 20080901, 'totalCost': '1517.8', 'endDate': 20081130, 'deaths': 16}, {'name': 'U.S. Drought (2008)', 'disaster': 'Drought', 'begDate': 20080101, 'totalCost': '8622.1', 'endDate': 20081231, 'deaths': 0}, {'name': 'Midwest, South and East Severe Weather (June 2009)', 'disaster': 'Severe Storm', 'begDate': 20090609, 'totalCost': '1633.4', 'endDate': 20090612, 'deaths': 0}, {'name': 'Southwest/Great Plains Drought (2009)', 'disaster': 'Drought', 'begDate': 20090101, 'totalCost': '4295.2', 'endDate': 20091231, 'deaths': 0}, {'name': 'Rockies/Central/East Severe Weather (June 2010)', 'disaster': 'Severe Storm', 'begDate': 20100610, 'totalCost': '1081.2', 'endDate': 20100615, 'deaths': 2}, {'name': 'Midwest/Southeast Tornadoes (April 2011)', 'disaster': 'Severe Storm', 'begDate': 20110404, 'totalCost': '3274.8', 'endDate': 20110405, 'deaths': 9}, {'name': 'Southeast/Midwest Tornadoes (April 2011)', 'disaster': 'Severe Storm', 'begDate': 20110408, 'totalCost': '2571.5', 'endDate': 20110411, 'deaths': 0}, {'name': 'Midwest/Southeast Tornadoes (April 2011)', 'disaster': 'Severe Storm', 'begDate': 20110414, 'totalCost': '2429.9', 'endDate': 20110416, 'deaths': 38}, {'name': 'Midwest/Southeast Tornadoes and Severe Weather (June 2011)', 'disaster': 'Severe Storm', 'begDate': 20110618, 'totalCost': '1814.0', 'endDate': 20110622, 'deaths': 3}, {'name': 'Hurricane Irene (August 2011)', 'disaster': 'Tropical Cyclone', 'begDate': 20110826, 'totalCost': '15922.9', 'endDate': 20110828, 'deaths': 45}, {'name': 'Southern Plains/Southwest Drought & Heat Wave (Spring-Summer 2011)', 'disaster': 'Drought', 'begDate': 20110301, 'totalCost': '14118.3', 'endDate': 20110831, 'deaths': 95}, {'name': 'Plains/East/Northeast Severe Weather (June-July 2012)', 'disaster': 'Severe Storm', 'begDate': 20120629, 'totalCost': '3321.9', 'endDate': 20120702, 'deaths': 28}, {'name': 'Hurricane Sandy (October 2012)', 'disaster': 'Tropical Cyclone', 'begDate': 20121030, 'totalCost': '74795.6', 'endDate': 20121031, 'deaths': 159}, {'name': 'Midwest/Southeast/Northeast Winter Storm (January 2014)', 'disaster': 'Winter Storm', 'begDate': 20140105, 'totalCost': '2411.7', 'endDate': 20140108, 'deaths': 16}, {'name': 'Midwest/Southeast/Northeast Tornadoes and Flooding (April 2014)', 'disaster': 'Severe Storm', 'begDate': 20140427, 'totalCost': '1927.1', 'endDate': 20140501, 'deaths': 33}, {'name': 'Central and Eastern Winter storm, Cold Wave (February 2015)', 'disaster': 'Winter Storm', 'begDate': 20150214, 'totalCost': '3288.1', 'endDate': 20150220, 'deaths': 30}, {'name': 'Midwest/Ohio Valley Severe Weather (April 2015)', 'disaster': 'Severe Storm', 'begDate': 20150407, 'totalCost': '1726.9', 'endDate': 20150409, 'deaths': 2}, {'name': 'South/Southeast Severe Weather (April 2015)', 'disaster': 'Severe Storm', 'begDate': 20150418, 'totalCost': '1425.0', 'endDate': 20150420, 'deaths': 0}, {'name': 'South Carolina and East Coast Flooding (October 2015)', 'disaster': 'Flooding', 'begDate': 20151001, 'totalCost': '2218.0', 'endDate': 20151005, 'deaths': 25}, {'name': 'Southeast and Eastern Tornadoes (February 2016)', 'disaster': 'Severe Storm', 'begDate': 20160222, 'totalCost': '1144.3', 'endDate': 20160224, 'deaths': 10}, {'name': 'South/Southeast Tornadoes (April 2016)', 'disaster': 'Severe Storm', 'begDate': 20160426, 'totalCost': '2633.8', 'endDate': 20160502, 'deaths': 6}, {'name': 'Hurricane Matthew (October 2016)', 'disaster': 'Tropical Cyclone', 'begDate': 20161008, 'totalCost': '11000.0', 'endDate': 20161012, 'deaths': 49}, {'name': 'West/Northeast/Southeast Drought (2016)', 'disaster': 'Drought', 'begDate': 20160101, 'totalCost': '3787.9', 'endDate': 20161231, 'deaths': 0}, {'name': 'Western/Southeast Wildfires (Summer-Fall 2016)', 'disaster': 'Wildfire', 'begDate': 20160601, 'totalCost': '2634.5', 'endDate': 20161231, 'deaths': 21}, {'name': 'Central/Southeast Tornado Outbreak (March 2017)', 'disaster': 'Severe Storm', 'begDate': 20170228, 'totalCost': '1932.5', 'endDate': 20170301, 'deaths': 6}, {'name': 'Southeast Freeze (March 2017)', 'disaster': 'Freeze', 'begDate': 20170314, 'totalCost': '1070.0', 'endDate': 20170316, 'deaths': 0}, {'name': 'Hurricane Harvey (August 2017)', 'disaster': 'Tropical Cyclone', 'begDate': 20170825, 'totalCost': '131250.0', 'endDate': 20170831, 'deaths': 89}, {'name': 'Hurricane Irma (September 2017)', 'disaster': 'Tropical Cyclone', 'begDate': 20170906, 'totalCost': '52500.0', 'endDate': 20170912, 'deaths': 97}, {'name': 'Central and Eastern Winter Storm (January 2018)', 'disaster': 'Winter Storm', 'begDate': 20180103, 'totalCost': '1095.3', 'endDate': 20180105, 'deaths': 22}, {'name': 'Northeast Winter Storm (March 2018)', 'disaster': 'Winter Storm', 'begDate': 20180301, 'totalCost': '2303.9', 'endDate': 20180303, 'deaths': 9}, {'name': 'Southern and Eastern Tornadoes and Severe Weather (April 2018)', 'disaster': 'Severe Storm', 'begDate': 20180413, 'totalCost': '1370.7', 'endDate': 20180416, 'deaths': 3}, {'name': 'Central and Eastern Tornadoes and Severe Weather (July 2018)', 'disaster': 'Severe Storm', 'begDate': 20180719, 'totalCost': '1632.8', 'endDate': 20180722, 'deaths': 0}, {'name': 'Hurricane Florence (September 2018)', 'disaster': 'Tropical Cyclone', 'begDate': 20180913, 'totalCost': '24720.0', 'endDate': 20180916, 'deaths': 53}, {'name': 'Hurricane Michael (October 2018)', 'disaster': 'Tropical Cyclone', 'begDate': 20181010, 'totalCost': '25724.3', 'endDate': 20181011, 'deaths': 49}, {'name': 'Southern and Eastern Tornadoes and Severe Weather (April 2019)', 'disaster': 'Severe Storm', 'begDate': 20190413, 'totalCost': '1277.1', 'endDate': 20190414, 'deaths': 7}, {'name': 'South and Southeast Severe Weather (May 2019)', 'disaster': 'Severe Storm', 'begDate': 20190507, 'totalCost': '1544.3', 'endDate': 20190513, 'deaths': 0}, {'name': 'Hurricane Dorian (September 2019)', 'disaster': 'Tropical Cyclone', 'begDate': 20190828, 'totalCost': '1626.1', 'endDate': 20190906, 'deaths': 10}, {'name': 'Southeast Tornadoes and Northern Storms and Flooding (January 2020)', 'disaster': 'Severe Storm', 'begDate': 20200110, 'totalCost': '1160.7', 'endDate': 20200112, 'deaths': 10}, {'name': 'South, East and Northeast Severe Weather (February 2020)', 'disaster': 'Severe Storm', 'begDate': 20200205, 'totalCost': '1355.8', 'endDate': 20200207, 'deaths': 3}, {'name': 'North Central and Ohio Valley Hail Storms and Severe Weather (April 2020)', 'disaster': 'Severe Storm', 'begDate': 20200407, 'totalCost': '2910.1', 'endDate': 20200408, 'deaths': 0}, {'name': 'Southeast and Eastern Tornado Outbreak (April 2020)', 'disaster': 'Severe Storm', 'begDate': 20200412, 'totalCost': '3569.6', 'endDate': 20200413, 'deaths': 35}, {'name': 'South, Central and Eastern Severe Weather (May 2020)', 'disaster': 'Severe Storm', 'begDate': 20200520, 'totalCost': '1599.9', 'endDate': 20200523, 'deaths': 2}, {'name': 'Hurricane Isaias (August 2020)', 'disaster': 'Tropical Cyclone', 'begDate': 20200803, 'totalCost': '4757.0', 'endDate': 20200804, 'deaths': 16}, {'name': 'Hurricane Delta (October 2020)', 'disaster': 'Tropical Cyclone', 'begDate': 20201009, 'totalCost': '2867.0', 'endDate': 20201011, 'deaths': 5}, {'name': 'Hurricane Zeta (October 2020)', 'disaster': 'Tropical Cyclone', 'begDate': 20201028, 'totalCost': '3482.0', 'endDate': 20201029, 'deaths': 6}, {'name': 'Tropical Storm Eta (November 2020)', 'disaster': 'Tropical Cyclone', 'begDate': 20201108, 'totalCost': '1460.0', 'endDate': 20201112, 'deaths': 12}]}\n"
     ]
    }
   ],
   "source": [
    "print (data)"
   ]
  },
  {
   "cell_type": "code",
   "execution_count": null,
   "metadata": {},
   "outputs": [],
   "source": []
  }
 ],
 "metadata": {
  "kernelspec": {
   "display_name": "Python 3",
   "language": "python",
   "name": "python3"
  },
  "language_info": {
   "codemirror_mode": {
    "name": "ipython",
    "version": 3
   },
   "file_extension": ".py",
   "mimetype": "text/x-python",
   "name": "python",
   "nbconvert_exporter": "python",
   "pygments_lexer": "ipython3",
   "version": "3.8.5"
  }
 },
 "nbformat": 4,
 "nbformat_minor": 4
}
